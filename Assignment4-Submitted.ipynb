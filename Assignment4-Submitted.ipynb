{
 "cells": [
  {
   "cell_type": "markdown",
   "id": "dbeb14e1",
   "metadata": {},
   "source": [
    "---\n",
    "\n",
    "## Advanced Regular Expression Assignments\n",
    "\n",
    "### Assignment 1: Extracting Phone Numbers\n",
    "\n",
    "**Raw Text:** \n",
    "Extract all valid Pakistani phone numbers from a given text.\n",
    "\n",
    "**Example:**\n",
    "```\n",
    "Text: Please contact me at 0301-1234567 or 042-35678901 for further details.\n",
    "```\n",
    "\n"
   ]
  },
  {
   "cell_type": "code",
   "execution_count": 6,
   "id": "b830b03e",
   "metadata": {},
   "outputs": [
    {
     "data": {
      "text/plain": [
       "['0301-1234567', '042-35678901']"
      ]
     },
     "execution_count": 6,
     "metadata": {},
     "output_type": "execute_result"
    }
   ],
   "source": [
    "text=\"Please contact me at 0301-1234567 or 042-35678901 for further details.\"\n",
    "import re\n",
    "pattern=\"[0-9]{3,4}-[0-9]{7,8}\"\n",
    "result=re.findall(pattern, text)\n",
    "result\n"
   ]
  },
  {
   "cell_type": "markdown",
   "id": "dd34fb2f",
   "metadata": {},
   "source": [
    "### Assignment 2: Validating Email Addresses\n",
    "\n",
    "**Raw Text:** \n",
    "Validate email addresses according to Pakistani domain extensions (.pk).\n",
    "\n",
    "**Example:**\n",
    "```\n",
    "Text: Contact us at info@example.com or support@domain.pk for assistance.\n",
    "```\n",
    "\n"
   ]
  },
  {
   "cell_type": "code",
   "execution_count": 1,
   "id": "64cf6883",
   "metadata": {},
   "outputs": [
    {
     "data": {
      "text/plain": [
       "['support@domain.pk']"
      ]
     },
     "execution_count": 1,
     "metadata": {},
     "output_type": "execute_result"
    }
   ],
   "source": [
    "text= \"Contact us at info@example.com or support@domain.pk for assistance.\"\n",
    "import re\n",
    "pattern=\"[a-z]+@[a-z]+.pk\"\n",
    "result=re.findall(pattern,text)\n",
    "result"
   ]
  },
  {
   "cell_type": "markdown",
   "id": "0bd2f6f3",
   "metadata": {},
   "source": [
    "### Assignment 3: Extracting CNIC Numbers\n",
    "\n",
    "**Raw Text:** \n",
    "Extract all Pakistani CNIC (Computerized National Identity Card) numbers from a given text.\n",
    "\n",
    "**Example:**\n",
    "```\n",
    "Text: My CNIC is 12345-6789012-3 and another one is 34567-8901234-5.\n",
    "```\n"
   ]
  },
  {
   "cell_type": "code",
   "execution_count": 4,
   "id": "b825834e",
   "metadata": {},
   "outputs": [
    {
     "data": {
      "text/plain": [
       "['12345-6789012-3', '34567-8901234-5']"
      ]
     },
     "execution_count": 4,
     "metadata": {},
     "output_type": "execute_result"
    }
   ],
   "source": [
    "text=\"My CNIC is 12345-6789012-3 and another one is 34567-8901234-5.\"\n",
    "\n",
    "import re\n",
    "pattern=\"[0-9]+-[0-9]+-[0-9]\"\n",
    "result=re.findall(pattern, text)\n",
    "result"
   ]
  },
  {
   "cell_type": "markdown",
   "id": "f21a0a2f",
   "metadata": {},
   "source": [
    "\n",
    "### Assignment 4: Identifying Urdu Words\n",
    "\n",
    "**Raw Text:** \n",
    "Identify and extract Urdu words from a mixed English-Urdu text.\n",
    "\n",
    "**Example:**\n",
    "```\n",
    "Text: یہ sentence میں کچھ English words بھی ہیں۔\n",
    "```\n",
    "\n"
   ]
  },
  {
   "cell_type": "code",
   "execution_count": 2,
   "id": "b4263cfb",
   "metadata": {},
   "outputs": [
    {
     "data": {
      "text/plain": [
       "['یہ', 'میں', 'کچھ', 'بھی', 'ہیں۔']"
      ]
     },
     "execution_count": 2,
     "metadata": {},
     "output_type": "execute_result"
    }
   ],
   "source": [
    "text=\" یہ sentence میں کچھ English words بھی ہیں۔\"\n",
    "import re\n",
    "pattern=r\"[\\u0600-\\u06ff]+\"\n",
    "result=re.findall(pattern,text)\n",
    "result"
   ]
  },
  {
   "cell_type": "markdown",
   "id": "421405e8",
   "metadata": {},
   "source": [
    "### Assignment 5: Finding Dates\n",
    "\n",
    "**Raw Text:** \n",
    "Find and extract dates in the format DD-MM-YYYY from a given text.\n",
    "\n",
    "**Example:**\n",
    "```\n",
    "Text: The event will take place on 15-08-2023 and 23-09-2023.\n",
    "```\n",
    "\n"
   ]
  },
  {
   "cell_type": "code",
   "execution_count": 5,
   "id": "c2f9d8bf",
   "metadata": {},
   "outputs": [
    {
     "data": {
      "text/plain": [
       "['15-08-2023', '23-09-2023']"
      ]
     },
     "execution_count": 5,
     "metadata": {},
     "output_type": "execute_result"
    }
   ],
   "source": [
    "text=\"The event will take place on 15-08-2023 and 23-09-2023.\"\n",
    "import re\n",
    "pattern=\"[0-9]+-[0-9]+-[0-9]+\"\n",
    "result=re.findall(pattern,text)\n",
    "result\n"
   ]
  },
  {
   "cell_type": "markdown",
   "id": "6b817815",
   "metadata": {},
   "source": [
    "### Assignment 6: Extracting URLs\n",
    "\n",
    "**Raw Text:** \n",
    "Extract all URLs from a text that belong to Pakistani domains.\n",
    "\n",
    "**Example:**\n",
    "```\n",
    "Text: Visit http://www.example.pk or https://website.com.pk for more information.\n",
    "```\n",
    "\n"
   ]
  },
  {
   "cell_type": "code",
   "execution_count": 5,
   "id": "c2ba10ac",
   "metadata": {},
   "outputs": [
    {
     "data": {
      "text/plain": [
       "['http://www.example.pk', 'https://website.com.pk']"
      ]
     },
     "execution_count": 5,
     "metadata": {},
     "output_type": "execute_result"
    }
   ],
   "source": [
    "text=\"Visit http://www.example.pk or https://website.com.pk for more information.\"\n",
    "import re\n",
    "pattern=\"http+s?:+//+w?w?w?.?[a-z]+.c?o?m?.pk\"\n",
    "result=re.findall(pattern,text)\n",
    "result"
   ]
  },
  {
   "cell_type": "markdown",
   "id": "7ff1dc07",
   "metadata": {},
   "source": [
    "### Assignment 7: Analyzing Currency\n",
    "\n",
    "**Raw Text:** \n",
    "Extract and analyze currency amounts in Pakistani Rupees (PKR) from a given text.\n",
    "\n",
    "**Example:**\n",
    "```\n",
    "Text: The product costs PKR 1500, while the deluxe version is priced at Rs. 2500.\n",
    "```\n",
    "\n"
   ]
  },
  {
   "cell_type": "code",
   "execution_count": 7,
   "id": "28769652",
   "metadata": {},
   "outputs": [
    {
     "data": {
      "text/plain": [
       "['PKR 1500', 'Rs. 2500']"
      ]
     },
     "execution_count": 7,
     "metadata": {},
     "output_type": "execute_result"
    }
   ],
   "source": [
    "text=\"The product costs PKR 1500, while the deluxe version is priced at Rs. 2500.\"\n",
    "import re\n",
    "pattern=\"PKR\\s[0-9]+|Rs.\\s[0-9]+\"\n",
    "result=re.findall(pattern,text)\n",
    "result"
   ]
  },
  {
   "cell_type": "markdown",
   "id": "651c8b5d",
   "metadata": {},
   "source": [
    "### Assignment 8: Removing Punctuation\n",
    "\n",
    "**Raw Text:** \n",
    "Remove all punctuation marks from a text while preserving Urdu characters.\n",
    "\n",
    "**Example:**\n",
    "```\n",
    "Text: کیا! آپ, یہاں؟\n",
    "```\n",
    "\n"
   ]
  },
  {
   "cell_type": "code",
   "execution_count": 22,
   "id": "96350bf0",
   "metadata": {},
   "outputs": [
    {
     "data": {
      "text/plain": [
       "' کیا آپ یہاں'"
      ]
     },
     "execution_count": 22,
     "metadata": {},
     "output_type": "execute_result"
    }
   ],
   "source": [
    "text=\" کیا! آپ, یہاں؟\"\n",
    "import re\n",
    "pattern=r\"[!,؟]\"\n",
    "result=re.sub(pattern,\"\",text)\n",
    "result"
   ]
  },
  {
   "cell_type": "markdown",
   "id": "8cc27684",
   "metadata": {},
   "source": [
    "### Assignment 9: Extracting City Names\n",
    "\n",
    "**Raw Text:** \n",
    "Extract names of Pakistani cities from a given text.\n",
    "\n",
    "**Example:**\n",
    "```\n",
    "Text: Lahore, Karachi, Islamabad, and Peshawar are major cities of Pakistan.\n",
    "```\n"
   ]
  },
  {
   "cell_type": "code",
   "execution_count": 14,
   "id": "a81035ed",
   "metadata": {},
   "outputs": [
    {
     "data": {
      "text/plain": [
       "['Lahore', 'Karachi', 'Islamabad', 'Peshawar']"
      ]
     },
     "execution_count": 14,
     "metadata": {},
     "output_type": "execute_result"
    }
   ],
   "source": [
    "text=\"Lahore, Karachi, Islamabad, and Peshawar are major cities of Pakistan.\"\n",
    "import re\n",
    "pattern=r\"(?!Pakistan)[A-Z][a-z]+\"\n",
    "result=re.findall(pattern,text)\n",
    "result"
   ]
  },
  {
   "cell_type": "markdown",
   "id": "219b6c4c",
   "metadata": {},
   "source": [
    "\n",
    "### Assignment 10: Analyzing Vehicle Numbers\n",
    "\n",
    "**Raw Text:** \n",
    "Identify and extract Pakistani vehicle registration numbers (e.g., ABC-123) from a text.\n",
    "\n",
    "**Example:**\n",
    "```\n",
    "Text: I saw a car with the number plate LEA-567 near the market.\n",
    "```\n",
    "\n"
   ]
  },
  {
   "cell_type": "code",
   "execution_count": 17,
   "id": "33e1e5ba",
   "metadata": {},
   "outputs": [
    {
     "data": {
      "text/plain": [
       "['LEA-567']"
      ]
     },
     "execution_count": 17,
     "metadata": {},
     "output_type": "execute_result"
    }
   ],
   "source": [
    "text=\"I saw a car with the number plate LEA-567 near the market.\"\n",
    "import re\n",
    "pattern=\"[A-Z]+-[0-9]+\"\n",
    "result=re.findall(pattern,text)\n",
    "result"
   ]
  }
 ],
 "metadata": {
  "kernelspec": {
   "display_name": "Python 3 (ipykernel)",
   "language": "python",
   "name": "python3"
  },
  "language_info": {
   "codemirror_mode": {
    "name": "ipython",
    "version": 3
   },
   "file_extension": ".py",
   "mimetype": "text/x-python",
   "name": "python",
   "nbconvert_exporter": "python",
   "pygments_lexer": "ipython3",
   "version": "3.11.4"
  }
 },
 "nbformat": 4,
 "nbformat_minor": 5
}
