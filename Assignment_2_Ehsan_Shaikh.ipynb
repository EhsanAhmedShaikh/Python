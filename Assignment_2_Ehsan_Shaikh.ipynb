{
 "cells": [
  {
   "cell_type": "code",
   "execution_count": null,
   "id": "8c7e0c1f",
   "metadata": {},
   "outputs": [],
   "source": []
  },
  {
   "cell_type": "code",
   "execution_count": 14,
   "id": "a105d535",
   "metadata": {},
   "outputs": [
    {
     "name": "stdout",
     "output_type": "stream",
     "text": [
      "My name is Ehsan Ahmed Shaikh. I am 56 years old, and I live in Pakisatn.\n"
     ]
    }
   ],
   "source": [
    "name=\"Ehsan Ahmed Shaikh\"\n",
    "age=56\n",
    "country=\"Pakisatn\"\n",
    "print(\"My name is \"+name+\". I am \"+ str(age)+\" years old, and I live in \" +country+\".\")\n"
   ]
  },
  {
   "cell_type": "code",
   "execution_count": 17,
   "id": "0ada98f9",
   "metadata": {},
   "outputs": [
    {
     "name": "stdout",
     "output_type": "stream",
     "text": [
      "I bought 20 cell phones at $100 each, for the total cost of $2000.  \n"
     ]
    }
   ],
   "source": [
    "item=\"cell phone\"\n",
    "price=100\n",
    "quantity=20\n",
    "total_cost=price*quantity\n",
    "print(\"I bought {} {}s at ${} each, for the total cost of ${}.  \".format(quantity,item,price,total_cost))"
   ]
  },
  {
   "cell_type": "code",
   "execution_count": 20,
   "id": "89ca72c0",
   "metadata": {},
   "outputs": [
    {
     "name": "stdout",
     "output_type": "stream",
     "text": [
      "The tempreture in Karachi is  34 Celsius\n"
     ]
    }
   ],
   "source": [
    "city=\"Karachi\"\n",
    "tempreture=34\n",
    "print(f\"The tempreture in {city} is  {tempreture} Celsius\")"
   ]
  },
  {
   "cell_type": "code",
   "execution_count": 22,
   "id": "fc02fda8",
   "metadata": {},
   "outputs": [
    {
     "name": "stdout",
     "output_type": "stream",
     "text": [
      " I am Ehsan Shaikh. My age is 56\n"
     ]
    }
   ],
   "source": [
    "first_name=\"Ehsan\"\n",
    "last_name=\"Shaikh\"\n",
    "birth_year=1967\n",
    "current_year=2023\n",
    "age=current_year-birth_year\n",
    "print(\" I am %s %s. My age is %d\" %(first_name, last_name, age))"
   ]
  },
  {
   "cell_type": "code",
   "execution_count": 48,
   "id": "31953b7d",
   "metadata": {},
   "outputs": [
    {
     "name": "stdout",
     "output_type": "stream",
     "text": [
      "The name of the product is Laptop.The orininal price is $300. The discount percentage is 0.100000 . The discounted price is 270.0.\n"
     ]
    }
   ],
   "source": [
    "product=\"Laptop\"\n",
    "discount=0.1\n",
    "original_price=300\n",
    "discount_price=(1-discount)*original_price\n",
    "\n",
    "print(f\"The name of the product is {product}.The orininal price is $\" +str(original_price)+\". The discount percentage is %f\"%(discount) +\" . The discounted price is {}.\".format(discount_price))\n",
    " "
   ]
  },
  {
   "cell_type": "code",
   "execution_count": null,
   "id": "b0c37c6e",
   "metadata": {},
   "outputs": [],
   "source": []
  }
 ],
 "metadata": {
  "kernelspec": {
   "display_name": "Python 3 (ipykernel)",
   "language": "python",
   "name": "python3"
  },
  "language_info": {
   "codemirror_mode": {
    "name": "ipython",
    "version": 3
   },
   "file_extension": ".py",
   "mimetype": "text/x-python",
   "name": "python",
   "nbconvert_exporter": "python",
   "pygments_lexer": "ipython3",
   "version": "3.11.4"
  }
 },
 "nbformat": 4,
 "nbformat_minor": 5
}
