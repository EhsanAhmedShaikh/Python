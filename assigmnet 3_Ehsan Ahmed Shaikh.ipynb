{
 "cells": [
  {
   "cell_type": "markdown",
   "id": "669fedb1",
   "metadata": {},
   "source": [
    "# Python List Manipulation Assignment\n",
    "Question 1: Basic List Operations"
   ]
  },
  {
   "cell_type": "code",
   "execution_count": 6,
   "id": "4c2813db",
   "metadata": {},
   "outputs": [
    {
     "name": "stdout",
     "output_type": "stream",
     "text": [
      "['apple', 'banana', 'orange', 'grape', 'kiwi']\n"
     ]
    }
   ],
   "source": [
    " # a) Create a list named 'fruits' containing the followingitems:\n",
    "    #\"apple\", \"banana\", \"orange\", \"grape\", \"kiwi\".\n",
    "fruits=[\"apple\", \"banana\", \"orange\", \"grape\", \"kiwi\"]\n",
    "print(fruits)"
   ]
  },
  {
   "cell_type": "code",
   "execution_count": 11,
   "id": "4a2a988f",
   "metadata": {},
   "outputs": [
    {
     "name": "stdout",
     "output_type": "stream",
     "text": [
      "['apple', 'banana', 'orange', 'grape', 'kiwi', 'pear', 'pear', 'pear', 'pear', 'pear']\n"
     ]
    }
   ],
   "source": [
    "# b) Add \"pear\" to the end of the list.\n",
    "fruits.append(\"pear\")\n",
    "print(fruits)"
   ]
  },
  {
   "cell_type": "code",
   "execution_count": 16,
   "id": "3141ba27",
   "metadata": {},
   "outputs": [
    {
     "data": {
      "text/plain": [
       "['apple',\n",
       " 'mango',\n",
       " 'banana',\n",
       " 'orange',\n",
       " 'grape',\n",
       " 'kiwi',\n",
       " 'pear',\n",
       " 'pear',\n",
       " 'pear',\n",
       " 'pear',\n",
       " 'pear']"
      ]
     },
     "execution_count": 16,
     "metadata": {},
     "output_type": "execute_result"
    }
   ],
   "source": [
    "# c) Insert \"mango\" at the second position in the list.\n",
    "fruits.insert(1,\"mango\")\n",
    "fruits"
   ]
  },
  {
   "cell_type": "code",
   "execution_count": 19,
   "id": "dd51dd63",
   "metadata": {},
   "outputs": [
    {
     "data": {
      "text/plain": [
       "['apple',\n",
       " 'mango',\n",
       " 'banana',\n",
       " 'grape',\n",
       " 'kiwi',\n",
       " 'pear',\n",
       " 'pear',\n",
       " 'pear',\n",
       " 'pear',\n",
       " 'pear']"
      ]
     },
     "execution_count": 19,
     "metadata": {},
     "output_type": "execute_result"
    }
   ],
   "source": [
    "# d) Remove \"orange\" from the list.\n",
    "fruits.remove(\"orange\")\n",
    "fruits"
   ]
  },
  {
   "cell_type": "markdown",
   "id": "6c3d10a1",
   "metadata": {},
   "source": [
    "# Question 2: Slicing and Indexing"
   ]
  },
  {
   "cell_type": "code",
   "execution_count": 28,
   "id": "6dbef88c",
   "metadata": {},
   "outputs": [
    {
     "name": "stdout",
     "output_type": "stream",
     "text": [
      "[0, 1, 2, 3, 4, 5, 6, 7, 8, 9]\n"
     ]
    }
   ],
   "source": [
    "# a) Create a list named 'numbers' containing the integers from 0 to 9.\n",
    "numbers=[x for x in range(0,10)]\n",
    "print(numbers)"
   ]
  },
  {
   "cell_type": "code",
   "execution_count": 29,
   "id": "9927386a",
   "metadata": {},
   "outputs": [
    {
     "name": "stdout",
     "output_type": "stream",
     "text": [
      "3\n"
     ]
    }
   ],
   "source": [
    "# b) Print the element at index 3.\n",
    "print(numbers[3])"
   ]
  },
  {
   "cell_type": "code",
   "execution_count": 30,
   "id": "39201ddd",
   "metadata": {},
   "outputs": [
    {
     "name": "stdout",
     "output_type": "stream",
     "text": [
      "[2, 3, 4, 5]\n"
     ]
    }
   ],
   "source": [
    "# c) Print a sublist containing the elements from index 2 to 6 (inclusive).\n",
    "sublist=numbers[2:6]\n",
    "print(sublist)\n"
   ]
  },
  {
   "cell_type": "code",
   "execution_count": 35,
   "id": "4e8a159c",
   "metadata": {},
   "outputs": [
    {
     "name": "stdout",
     "output_type": "stream",
     "text": [
      "[7, 8, 9]\n"
     ]
    }
   ],
   "source": [
    "# d) Print the last three elements using negative indexing.\n",
    "print(numbers[-3:])"
   ]
  },
  {
   "cell_type": "markdown",
   "id": "4a0708a3",
   "metadata": {},
   "source": [
    "# Question 3: List Comprehension\n"
   ]
  },
  {
   "cell_type": "code",
   "execution_count": 36,
   "id": "2399f8da",
   "metadata": {},
   "outputs": [
    {
     "name": "stdout",
     "output_type": "stream",
     "text": [
      "[1, 4, 9, 16, 25, 36, 49, 64, 81, 100]\n"
     ]
    }
   ],
   "source": [
    "# a) Create a list named 'squares' using a list comprehension that contains the squares of numbers from 1 to 10.\n",
    "squares=[x**2 for x in range(1,11)]\n",
    "print(squares)"
   ]
  },
  {
   "cell_type": "code",
   "execution_count": 37,
   "id": "0324bfb3",
   "metadata": {},
   "outputs": [
    {
     "name": "stdout",
     "output_type": "stream",
     "text": [
      "[4, 16, 36, 64, 100]\n"
     ]
    }
   ],
   "source": [
    "\"\"\"\n",
    "b) Create a new list named 'even_squares' using a list comprehension that contains the squares of even numbers from the \n",
    "'squares' list.\n",
    "\n",
    "\"\"\"\n",
    "even_squares=[x for x in squares if x % 2==0]\n",
    "print(even_squares)"
   ]
  },
  {
   "cell_type": "markdown",
   "id": "2a9db221",
   "metadata": {},
   "source": [
    "# Question 4: List Manipulation"
   ]
  },
  {
   "cell_type": "code",
   "execution_count": 38,
   "id": "e23c473c",
   "metadata": {},
   "outputs": [
    {
     "name": "stdout",
     "output_type": "stream",
     "text": [
      "['red', 'green', 'blue', 'yellow', 'purple']\n"
     ]
    }
   ],
   "source": [
    "# a) Create a list named 'colors' containing the following items: \"red\", \"green\", \"blue\", \"yellow\", \"purple\".\n",
    "colors=[\"red\", \"green\", \"blue\", \"yellow\", \"purple\"]\n",
    "print(colors)"
   ]
  },
  {
   "cell_type": "code",
   "execution_count": 40,
   "id": "980fa7b1",
   "metadata": {},
   "outputs": [
    {
     "name": "stdout",
     "output_type": "stream",
     "text": [
      "['purple', 'green', 'blue', 'yellow', 'red']\n"
     ]
    }
   ],
   "source": [
    "# b) Swap the first and last elements of the list.\n",
    "\n",
    "colors = [\"red\", \"green\", \"blue\", \"yellow\", \"purple\"]\n",
    "temp = colors[0]\n",
    "colors[0] = colors[-1]\n",
    "colors[-1] = temp\n",
    "print(colors)"
   ]
  },
  {
   "cell_type": "code",
   "execution_count": 41,
   "id": "4b2658a9",
   "metadata": {},
   "outputs": [
    {
     "name": "stdout",
     "output_type": "stream",
     "text": [
      "['purple', 'yellow', 'blue', 'green', 'red']\n"
     ]
    }
   ],
   "source": [
    "# c) Reverse the order of the list.\n",
    "\n",
    "colors = [\"red\", \"green\", \"blue\", \"yellow\", \"purple\"]\n",
    "colors.reverse()\n",
    "print(colors)"
   ]
  },
  {
   "cell_type": "code",
   "execution_count": 44,
   "id": "c28c6f69",
   "metadata": {},
   "outputs": [
    {
     "name": "stdout",
     "output_type": "stream",
     "text": [
      "['red', 'yellow', 'purple']\n"
     ]
    }
   ],
   "source": [
    "# d) Remove the second and third elements from the list.\n",
    "\n",
    "colors = [\"red\", \"green\", \"blue\", \"yellow\", \"purple\"]\n",
    "del colors[1:3]\n",
    "print(colors)"
   ]
  },
  {
   "cell_type": "markdown",
   "id": "06e0bf7d",
   "metadata": {},
   "source": [
    "# Question 5: Advanced Slicing"
   ]
  },
  {
   "cell_type": "code",
   "execution_count": 45,
   "id": "6a4e7b4b",
   "metadata": {},
   "outputs": [
    {
     "name": "stdout",
     "output_type": "stream",
     "text": [
      "['a', 'b', 'c', 'd', 'e', 'f', 'g', 'h', 'i', 'j']\n"
     ]
    }
   ],
   "source": [
    "# a) Create a list named 'letters' containing the letters from 'a' to 'j'.\n",
    "letters=[chr(x) for x in range(97,107)]\n",
    "print(letters)"
   ]
  },
  {
   "cell_type": "code",
   "execution_count": 47,
   "id": "c649bc6e",
   "metadata": {},
   "outputs": [
    {
     "name": "stdout",
     "output_type": "stream",
     "text": [
      "['a', 'b', 'c', 'd', 'e']\n"
     ]
    }
   ],
   "source": [
    "# b) Using slicing, create a new list 'first_half containing the first half of the 'letters' list.\n",
    "first_half=letters[:len(letters)//2]\n",
    "print(first_half)"
   ]
  },
  {
   "cell_type": "code",
   "execution_count": 48,
   "id": "02a0ec44",
   "metadata": {},
   "outputs": [
    {
     "name": "stdout",
     "output_type": "stream",
     "text": [
      "['h', 'i', 'j']\n"
     ]
    }
   ],
   "source": [
    "# c) Using slicing, create a new list 'last_three' containing the last three elements of the 'letters' list.\n",
    "last_three=letters[7::]\n",
    "print(last_three)"
   ]
  },
  {
   "cell_type": "markdown",
   "id": "5720074d",
   "metadata": {},
   "source": [
    "# Question 6: Nested Lists"
   ]
  },
  {
   "cell_type": "code",
   "execution_count": 50,
   "id": "1b80804d",
   "metadata": {},
   "outputs": [
    {
     "name": "stdout",
     "output_type": "stream",
     "text": [
      "[1, 2, 3]\n",
      "[4, 5, 6]\n",
      "[7, 8, 9]\n"
     ]
    }
   ],
   "source": [
    "\"\"\"\n",
    "a) Create a nested list named 'matrix' with the following rows:\n",
    "   - [1, 2, 3]\n",
    "   - [4, 5, 6]\n",
    "   - [7, 8, 9]\n",
    "\"\"\"\n",
    "matrix=[[1,2,3],[4,5,6],[7,8,9]]\n",
    "for i in matrix:\n",
    "    print(i)"
   ]
  },
  {
   "cell_type": "code",
   "execution_count": 51,
   "id": "178477d7",
   "metadata": {},
   "outputs": [
    {
     "name": "stdout",
     "output_type": "stream",
     "text": [
      "6\n"
     ]
    }
   ],
   "source": [
    "# b) Print the element in the second row and third column.\n",
    "\n",
    "print(matrix[1][2])\n"
   ]
  },
  {
   "cell_type": "code",
   "execution_count": 52,
   "id": "e45cc6ec",
   "metadata": {},
   "outputs": [
    {
     "name": "stdout",
     "output_type": "stream",
     "text": [
      "[1, 2, 3]\n",
      "[0, 5, 6]\n",
      "[7, 8, 9]\n"
     ]
    }
   ],
   "source": [
    "# c) Use nested indexing to change the value at the second row and first column to 0.\n",
    "matrix[1][0]=0\n",
    "for i in matrix:\n",
    "    print(i)\n"
   ]
  }
 ],
 "metadata": {
  "kernelspec": {
   "display_name": "Python 3 (ipykernel)",
   "language": "python",
   "name": "python3"
  },
  "language_info": {
   "codemirror_mode": {
    "name": "ipython",
    "version": 3
   },
   "file_extension": ".py",
   "mimetype": "text/x-python",
   "name": "python",
   "nbconvert_exporter": "python",
   "pygments_lexer": "ipython3",
   "version": "3.11.4"
  }
 },
 "nbformat": 4,
 "nbformat_minor": 5
}
